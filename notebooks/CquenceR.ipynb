{
  "nbformat": 4,
  "nbformat_minor": 0,
  "metadata": {
    "colab": {
      "name": "CquenceR.ipynb",
      "provenance": [],
      "collapsed_sections": [
        "JrMhl-Tk0y3p",
        "tjxYCgYtyRJ7",
        "xqQOP8DqzexQ",
        "o--YZlSbAH-X",
        "pHrRki6xy25r",
        "eMNzMpMhzxD4",
        "0QJvMFc-0IRc",
        "qaiAeFW60fW6",
        "8XU8HyN70SER",
        "7lxPp8iC0-cS",
        "AKbnN3Sk1MBF"
      ],
      "toc_visible": true
    },
    "kernelspec": {
      "name": "python3",
      "display_name": "Python 3"
    },
    "accelerator": "GPU"
  },
  "cells": [
    {
      "cell_type": "markdown",
      "metadata": {
        "id": "JrMhl-Tk0y3p"
      },
      "source": [
        "# Clone CquenceR and PatchBundle"
      ]
    },
    {
      "cell_type": "code",
      "metadata": {
        "id": "K1oK-GoIFz6L",
        "colab": {
          "base_uri": "https://localhost:8080/"
        },
        "outputId": "53563371-4b83-4f29-910e-761da65c01b9"
      },
      "source": [
        "!git clone https://github.com/epicosy/PatchBundle.git"
      ],
      "execution_count": 1,
      "outputs": [
        {
          "output_type": "stream",
          "text": [
            "Cloning into 'PatchBundle'...\n",
            "remote: Enumerating objects: 182, done.\u001b[K\n",
            "remote: Counting objects: 100% (182/182), done.\u001b[K\n",
            "remote: Compressing objects: 100% (112/112), done.\u001b[K\n",
            "remote: Total 182 (delta 96), reused 153 (delta 69), pack-reused 0\u001b[K\n",
            "Receiving objects: 100% (182/182), 12.38 MiB | 13.51 MiB/s, done.\n",
            "Resolving deltas: 100% (96/96), done.\n"
          ],
          "name": "stdout"
        }
      ]
    },
    {
      "cell_type": "code",
      "metadata": {
        "id": "4DFpcUP_htj-",
        "colab": {
          "base_uri": "https://localhost:8080/"
        },
        "outputId": "01a2c5ca-5396-4d69-cf3a-823f4acbaf38"
      },
      "source": [
        "!git clone https://github.com/epicosy/CquenceR.git"
      ],
      "execution_count": 2,
      "outputs": [
        {
          "output_type": "stream",
          "text": [
            "Cloning into 'CquenceR'...\n",
            "remote: Enumerating objects: 36, done.\u001b[K\n",
            "remote: Counting objects: 100% (36/36), done.\u001b[K\n",
            "remote: Compressing objects: 100% (30/30), done.\u001b[K\n",
            "remote: Total 345 (delta 13), reused 20 (delta 5), pack-reused 309\u001b[K\n",
            "Receiving objects: 100% (345/345), 129.03 MiB | 36.66 MiB/s, done.\n",
            "Resolving deltas: 100% (155/155), done.\n"
          ],
          "name": "stdout"
        }
      ]
    },
    {
      "cell_type": "markdown",
      "metadata": {
        "id": "tjxYCgYtyRJ7"
      },
      "source": [
        "# Install python 3.7"
      ]
    },
    {
      "cell_type": "code",
      "metadata": {
        "id": "MJYEzwYnMRju",
        "colab": {
          "base_uri": "https://localhost:8080/"
        },
        "outputId": "eef9e817-9d9d-462b-967c-ec56ebb66465"
      },
      "source": [
        "!apt-get install python3.7 python3.7-dev"
      ],
      "execution_count": 3,
      "outputs": [
        {
          "output_type": "stream",
          "text": [
            "Reading package lists... Done\n",
            "Building dependency tree       \n",
            "Reading state information... Done\n",
            "python3.7 is already the newest version (3.7.10-1+bionic2).\n",
            "python3.7-dev is already the newest version (3.7.10-1+bionic2).\n",
            "0 upgraded, 0 newly installed, 0 to remove and 13 not upgraded.\n"
          ],
          "name": "stdout"
        }
      ]
    },
    {
      "cell_type": "markdown",
      "metadata": {
        "id": "xqQOP8DqzexQ"
      },
      "source": [
        "# Initialize CquenceR\n",
        "Version of OpenNMT needs no be under 2.0.0, or some dependencies will not work later, such as the OpenNMT's preprocess script and other inputs. Also, the python version check in the init script might fail, just comment it."
      ]
    },
    {
      "cell_type": "code",
      "metadata": {
        "id": "uNP1Gd96izGI",
        "colab": {
          "base_uri": "https://localhost:8080/"
        },
        "outputId": "a63089ec-6b52-47ea-c70d-a030b3867fbd"
      },
      "source": [
        "! CquenceR/init.sh"
      ],
      "execution_count": 4,
      "outputs": [
        {
          "output_type": "stream",
          "text": [
            "\u001b[31mERROR: Could not open requirements file: [Errno 2] No such file or directory: 'requirements.txt'\u001b[0m\n",
            "Collecting OpenNMT-py==1.2.0\n",
            "\u001b[?25l  Downloading https://files.pythonhosted.org/packages/9f/20/40f8b722aa0e35e259c144b6ec2d684f1aea7de869cf586c67cfd6fe1c55/OpenNMT_py-1.2.0-py3-none-any.whl (195kB)\n",
            "\u001b[K     |████████████████████████████████| 204kB 17.3MB/s \n",
            "\u001b[?25hRequirement already satisfied: torch>=1.6.0 in /usr/local/lib/python3.7/dist-packages (from OpenNMT-py==1.2.0) (1.7.1+cu101)\n",
            "Requirement already satisfied: future in /usr/local/lib/python3.7/dist-packages (from OpenNMT-py==1.2.0) (0.16.0)\n",
            "Requirement already satisfied: pyyaml in /usr/local/lib/python3.7/dist-packages (from OpenNMT-py==1.2.0) (3.13)\n",
            "Collecting waitress\n",
            "\u001b[?25l  Downloading https://files.pythonhosted.org/packages/26/d1/5209fb8c764497a592363c47054436a515b47b8c3e4970ddd7184f088857/waitress-1.4.4-py2.py3-none-any.whl (58kB)\n",
            "\u001b[K     |████████████████████████████████| 61kB 8.2MB/s \n",
            "\u001b[?25hCollecting pyonmttok==1.*; platform_system == \"Linux\"\n",
            "\u001b[?25l  Downloading https://files.pythonhosted.org/packages/5f/aa/eaf0eaee095a5d42b6ed9fa969c8a37085e059f71efb1e55cb220e245437/pyonmttok-1.24.0-cp37-cp37m-manylinux1_x86_64.whl (2.6MB)\n",
            "\u001b[K     |████████████████████████████████| 2.6MB 54.2MB/s \n",
            "\u001b[?25hRequirement already satisfied: six in /usr/local/lib/python3.7/dist-packages (from OpenNMT-py==1.2.0) (1.15.0)\n",
            "Requirement already satisfied: flask in /usr/local/lib/python3.7/dist-packages (from OpenNMT-py==1.2.0) (1.1.2)\n",
            "Requirement already satisfied: tqdm in /usr/local/lib/python3.7/dist-packages (from OpenNMT-py==1.2.0) (4.41.1)\n",
            "Collecting torchtext==0.4.0\n",
            "\u001b[?25l  Downloading https://files.pythonhosted.org/packages/43/94/929d6bd236a4fb5c435982a7eb9730b78dcd8659acf328fd2ef9de85f483/torchtext-0.4.0-py3-none-any.whl (53kB)\n",
            "\u001b[K     |████████████████████████████████| 61kB 10.6MB/s \n",
            "\u001b[?25hCollecting configargparse\n",
            "\u001b[?25l  Downloading https://files.pythonhosted.org/packages/3f/75/ca907906cd6c4c7097a037f7adaee36b3f32a08b66baed51b86d1fcc6398/ConfigArgParse-1.3.tar.gz (43kB)\n",
            "\u001b[K     |████████████████████████████████| 51kB 10.0MB/s \n",
            "\u001b[?25hRequirement already satisfied: tensorboard>=1.14 in /usr/local/lib/python3.7/dist-packages (from OpenNMT-py==1.2.0) (2.4.1)\n",
            "Requirement already satisfied: numpy in /usr/local/lib/python3.7/dist-packages (from torch>=1.6.0->OpenNMT-py==1.2.0) (1.19.5)\n",
            "Requirement already satisfied: typing-extensions in /usr/local/lib/python3.7/dist-packages (from torch>=1.6.0->OpenNMT-py==1.2.0) (3.7.4.3)\n",
            "Requirement already satisfied: itsdangerous>=0.24 in /usr/local/lib/python3.7/dist-packages (from flask->OpenNMT-py==1.2.0) (1.1.0)\n",
            "Requirement already satisfied: Werkzeug>=0.15 in /usr/local/lib/python3.7/dist-packages (from flask->OpenNMT-py==1.2.0) (1.0.1)\n",
            "Requirement already satisfied: Jinja2>=2.10.1 in /usr/local/lib/python3.7/dist-packages (from flask->OpenNMT-py==1.2.0) (2.11.3)\n",
            "Requirement already satisfied: click>=5.1 in /usr/local/lib/python3.7/dist-packages (from flask->OpenNMT-py==1.2.0) (7.1.2)\n",
            "Requirement already satisfied: requests in /usr/local/lib/python3.7/dist-packages (from torchtext==0.4.0->OpenNMT-py==1.2.0) (2.23.0)\n",
            "Requirement already satisfied: google-auth<2,>=1.6.3 in /usr/local/lib/python3.7/dist-packages (from tensorboard>=1.14->OpenNMT-py==1.2.0) (1.27.0)\n",
            "Requirement already satisfied: grpcio>=1.24.3 in /usr/local/lib/python3.7/dist-packages (from tensorboard>=1.14->OpenNMT-py==1.2.0) (1.32.0)\n",
            "Requirement already satisfied: wheel>=0.26; python_version >= \"3\" in /usr/local/lib/python3.7/dist-packages (from tensorboard>=1.14->OpenNMT-py==1.2.0) (0.36.2)\n",
            "Requirement already satisfied: tensorboard-plugin-wit>=1.6.0 in /usr/local/lib/python3.7/dist-packages (from tensorboard>=1.14->OpenNMT-py==1.2.0) (1.8.0)\n",
            "Requirement already satisfied: absl-py>=0.4 in /usr/local/lib/python3.7/dist-packages (from tensorboard>=1.14->OpenNMT-py==1.2.0) (0.10.0)\n",
            "Requirement already satisfied: google-auth-oauthlib<0.5,>=0.4.1 in /usr/local/lib/python3.7/dist-packages (from tensorboard>=1.14->OpenNMT-py==1.2.0) (0.4.2)\n",
            "Requirement already satisfied: protobuf>=3.6.0 in /usr/local/lib/python3.7/dist-packages (from tensorboard>=1.14->OpenNMT-py==1.2.0) (3.12.4)\n",
            "Requirement already satisfied: setuptools>=41.0.0 in /usr/local/lib/python3.7/dist-packages (from tensorboard>=1.14->OpenNMT-py==1.2.0) (53.0.0)\n",
            "Requirement already satisfied: markdown>=2.6.8 in /usr/local/lib/python3.7/dist-packages (from tensorboard>=1.14->OpenNMT-py==1.2.0) (3.3.4)\n",
            "Requirement already satisfied: MarkupSafe>=0.23 in /usr/local/lib/python3.7/dist-packages (from Jinja2>=2.10.1->flask->OpenNMT-py==1.2.0) (1.1.1)\n",
            "Requirement already satisfied: certifi>=2017.4.17 in /usr/local/lib/python3.7/dist-packages (from requests->torchtext==0.4.0->OpenNMT-py==1.2.0) (2020.12.5)\n",
            "Requirement already satisfied: urllib3!=1.25.0,!=1.25.1,<1.26,>=1.21.1 in /usr/local/lib/python3.7/dist-packages (from requests->torchtext==0.4.0->OpenNMT-py==1.2.0) (1.24.3)\n",
            "Requirement already satisfied: idna<3,>=2.5 in /usr/local/lib/python3.7/dist-packages (from requests->torchtext==0.4.0->OpenNMT-py==1.2.0) (2.10)\n",
            "Requirement already satisfied: chardet<4,>=3.0.2 in /usr/local/lib/python3.7/dist-packages (from requests->torchtext==0.4.0->OpenNMT-py==1.2.0) (3.0.4)\n",
            "Requirement already satisfied: pyasn1-modules>=0.2.1 in /usr/local/lib/python3.7/dist-packages (from google-auth<2,>=1.6.3->tensorboard>=1.14->OpenNMT-py==1.2.0) (0.2.8)\n",
            "Requirement already satisfied: cachetools<5.0,>=2.0.0 in /usr/local/lib/python3.7/dist-packages (from google-auth<2,>=1.6.3->tensorboard>=1.14->OpenNMT-py==1.2.0) (4.2.1)\n",
            "Requirement already satisfied: rsa<5,>=3.1.4; python_version >= \"3.6\" in /usr/local/lib/python3.7/dist-packages (from google-auth<2,>=1.6.3->tensorboard>=1.14->OpenNMT-py==1.2.0) (4.7.2)\n",
            "Requirement already satisfied: requests-oauthlib>=0.7.0 in /usr/local/lib/python3.7/dist-packages (from google-auth-oauthlib<0.5,>=0.4.1->tensorboard>=1.14->OpenNMT-py==1.2.0) (1.3.0)\n",
            "Requirement already satisfied: importlib-metadata; python_version < \"3.8\" in /usr/local/lib/python3.7/dist-packages (from markdown>=2.6.8->tensorboard>=1.14->OpenNMT-py==1.2.0) (3.7.0)\n",
            "Requirement already satisfied: pyasn1<0.5.0,>=0.4.6 in /usr/local/lib/python3.7/dist-packages (from pyasn1-modules>=0.2.1->google-auth<2,>=1.6.3->tensorboard>=1.14->OpenNMT-py==1.2.0) (0.4.8)\n",
            "Requirement already satisfied: oauthlib>=3.0.0 in /usr/local/lib/python3.7/dist-packages (from requests-oauthlib>=0.7.0->google-auth-oauthlib<0.5,>=0.4.1->tensorboard>=1.14->OpenNMT-py==1.2.0) (3.1.0)\n",
            "Requirement already satisfied: zipp>=0.5 in /usr/local/lib/python3.7/dist-packages (from importlib-metadata; python_version < \"3.8\"->markdown>=2.6.8->tensorboard>=1.14->OpenNMT-py==1.2.0) (3.4.0)\n",
            "Building wheels for collected packages: configargparse\n",
            "  Building wheel for configargparse (setup.py) ... \u001b[?25l\u001b[?25hdone\n",
            "  Created wheel for configargparse: filename=ConfigArgParse-1.3-cp37-none-any.whl size=19478 sha256=ffe79446567f066a19cd1818c793754d28fbab5b7b8cc491eb5f2d604dcea656\n",
            "  Stored in directory: /root/.cache/pip/wheels/60/d5/5f/3001db0714a92f771c292603ef5dada52f9efa6467f3ea2bdf\n",
            "Successfully built configargparse\n",
            "Installing collected packages: waitress, pyonmttok, torchtext, configargparse, OpenNMT-py\n",
            "  Found existing installation: torchtext 0.3.1\n",
            "    Uninstalling torchtext-0.3.1:\n",
            "      Successfully uninstalled torchtext-0.3.1\n",
            "Successfully installed OpenNMT-py-1.2.0 configargparse-1.3 pyonmttok-1.24.0 torchtext-0.4.0 waitress-1.4.4\n",
            "CquenceR successfully initialized\n"
          ],
          "name": "stdout"
        }
      ]
    },
    {
      "cell_type": "markdown",
      "metadata": {
        "id": "N5H_m1mUqiz5"
      },
      "source": [
        ""
      ]
    },
    {
      "cell_type": "markdown",
      "metadata": {
        "id": "o--YZlSbAH-X"
      },
      "source": [
        "# Install python 3.7 dependencies"
      ]
    },
    {
      "cell_type": "code",
      "metadata": {
        "id": "MpkfeYg0AT-a",
        "colab": {
          "base_uri": "https://localhost:8080/"
        },
        "outputId": "dd1d20e7-085f-4028-d370-b6a685cc18d5"
      },
      "source": [
        "!curl https://bootstrap.pypa.io/get-pip.py -o get-pip.py\n",
        "!python3.7 get-pip.py\n",
        "!python3.7 -m pip install pandas\n",
        "!python3.7 -m pip install sklearn\n",
        "!python3.7 -m pip install python-Levenshtein\n",
        "!python3.7 -m pip install PyGithub\n",
        "!python3.7 -m pip install matplotlib\n",
        "!python3.7 -m pip install ipykernel\n",
        "# !python3.7 -m pip freeze > requirements.txt"
      ],
      "execution_count": 5,
      "outputs": [
        {
          "output_type": "stream",
          "text": [
            "  % Total    % Received % Xferd  Average Speed   Time    Time     Time  Current\n",
            "                                 Dload  Upload   Total   Spent    Left  Speed\n",
            "100 1882k  100 1882k    0     0  15.0M      0 --:--:-- --:--:-- --:--:-- 14.9M\n",
            "Collecting pip\n",
            "  Downloading pip-21.0.1-py3-none-any.whl (1.5 MB)\n",
            "\u001b[K     |████████████████████████████████| 1.5 MB 17.0 MB/s \n",
            "\u001b[?25hInstalling collected packages: pip\n",
            "  Attempting uninstall: pip\n",
            "    Found existing installation: pip 19.3.1\n",
            "    Uninstalling pip-19.3.1:\n",
            "      Successfully uninstalled pip-19.3.1\n",
            "Successfully installed pip-21.0.1\n",
            "Requirement already satisfied: pandas in /usr/local/lib/python3.7/dist-packages (1.1.5)\n",
            "Requirement already satisfied: python-dateutil>=2.7.3 in /usr/local/lib/python3.7/dist-packages (from pandas) (2.8.1)\n",
            "Requirement already satisfied: numpy>=1.15.4 in /usr/local/lib/python3.7/dist-packages (from pandas) (1.19.5)\n",
            "Requirement already satisfied: pytz>=2017.2 in /usr/local/lib/python3.7/dist-packages (from pandas) (2018.9)\n",
            "Requirement already satisfied: six>=1.5 in /usr/local/lib/python3.7/dist-packages (from python-dateutil>=2.7.3->pandas) (1.15.0)\n",
            "Requirement already satisfied: sklearn in /usr/local/lib/python3.7/dist-packages (0.0)\n",
            "Requirement already satisfied: scikit-learn in /usr/local/lib/python3.7/dist-packages (from sklearn) (0.22.2.post1)\n",
            "Requirement already satisfied: numpy>=1.11.0 in /usr/local/lib/python3.7/dist-packages (from scikit-learn->sklearn) (1.19.5)\n",
            "Requirement already satisfied: joblib>=0.11 in /usr/local/lib/python3.7/dist-packages (from scikit-learn->sklearn) (1.0.1)\n",
            "Requirement already satisfied: scipy>=0.17.0 in /usr/local/lib/python3.7/dist-packages (from scikit-learn->sklearn) (1.4.1)\n",
            "Collecting python-Levenshtein\n",
            "  Downloading python-Levenshtein-0.12.2.tar.gz (50 kB)\n",
            "\u001b[K     |████████████████████████████████| 50 kB 7.6 MB/s \n",
            "\u001b[?25hRequirement already satisfied: setuptools in /usr/local/lib/python3.7/dist-packages (from python-Levenshtein) (53.0.0)\n",
            "Building wheels for collected packages: python-Levenshtein\n",
            "  Building wheel for python-Levenshtein (setup.py) ... \u001b[?25l\u001b[?25hdone\n",
            "  Created wheel for python-Levenshtein: filename=python_Levenshtein-0.12.2-cp37-cp37m-linux_x86_64.whl size=149848 sha256=f8a0a10c476f91b2d58986e780916930e092d4b7c948d2d03867bddeb62c7d8f\n",
            "  Stored in directory: /root/.cache/pip/wheels/05/5f/ca/7c4367734892581bb5ff896f15027a932c551080b2abd3e00d\n",
            "Successfully built python-Levenshtein\n",
            "Installing collected packages: python-Levenshtein\n",
            "Successfully installed python-Levenshtein-0.12.2\n",
            "Collecting PyGithub\n",
            "  Downloading PyGithub-1.54.1-py3-none-any.whl (289 kB)\n",
            "\u001b[K     |████████████████████████████████| 289 kB 20.0 MB/s \n",
            "\u001b[?25hCollecting deprecated\n",
            "  Downloading Deprecated-1.2.11-py2.py3-none-any.whl (9.1 kB)\n",
            "Requirement already satisfied: requests>=2.14.0 in /usr/local/lib/python3.7/dist-packages (from PyGithub) (2.23.0)\n",
            "Collecting pyjwt<2.0\n",
            "  Downloading PyJWT-1.7.1-py2.py3-none-any.whl (18 kB)\n",
            "Requirement already satisfied: chardet<4,>=3.0.2 in /usr/local/lib/python3.7/dist-packages (from requests>=2.14.0->PyGithub) (3.0.4)\n",
            "Requirement already satisfied: certifi>=2017.4.17 in /usr/local/lib/python3.7/dist-packages (from requests>=2.14.0->PyGithub) (2020.12.5)\n",
            "Requirement already satisfied: idna<3,>=2.5 in /usr/local/lib/python3.7/dist-packages (from requests>=2.14.0->PyGithub) (2.10)\n",
            "Requirement already satisfied: urllib3!=1.25.0,!=1.25.1,<1.26,>=1.21.1 in /usr/local/lib/python3.7/dist-packages (from requests>=2.14.0->PyGithub) (1.24.3)\n",
            "Requirement already satisfied: wrapt<2,>=1.10 in /usr/local/lib/python3.7/dist-packages (from deprecated->PyGithub) (1.12.1)\n",
            "Installing collected packages: pyjwt, deprecated, PyGithub\n",
            "Successfully installed PyGithub-1.54.1 deprecated-1.2.11 pyjwt-1.7.1\n",
            "Requirement already satisfied: matplotlib in /usr/local/lib/python3.7/dist-packages (3.2.2)\n",
            "Requirement already satisfied: cycler>=0.10 in /usr/local/lib/python3.7/dist-packages (from matplotlib) (0.10.0)\n",
            "Requirement already satisfied: python-dateutil>=2.1 in /usr/local/lib/python3.7/dist-packages (from matplotlib) (2.8.1)\n",
            "Requirement already satisfied: kiwisolver>=1.0.1 in /usr/local/lib/python3.7/dist-packages (from matplotlib) (1.3.1)\n",
            "Requirement already satisfied: numpy>=1.11 in /usr/local/lib/python3.7/dist-packages (from matplotlib) (1.19.5)\n",
            "Requirement already satisfied: pyparsing!=2.0.4,!=2.1.2,!=2.1.6,>=2.0.1 in /usr/local/lib/python3.7/dist-packages (from matplotlib) (2.4.7)\n",
            "Requirement already satisfied: six in /usr/local/lib/python3.7/dist-packages (from cycler>=0.10->matplotlib) (1.15.0)\n",
            "Requirement already satisfied: ipykernel in /usr/local/lib/python3.7/dist-packages (4.10.1)\n",
            "Requirement already satisfied: ipython>=4.0.0 in /usr/local/lib/python3.7/dist-packages (from ipykernel) (5.5.0)\n",
            "Requirement already satisfied: traitlets>=4.1.0 in /usr/local/lib/python3.7/dist-packages (from ipykernel) (5.0.5)\n",
            "Requirement already satisfied: tornado>=4.0 in /usr/local/lib/python3.7/dist-packages (from ipykernel) (5.1.1)\n",
            "Requirement already satisfied: jupyter-client in /usr/local/lib/python3.7/dist-packages (from ipykernel) (5.3.5)\n",
            "Requirement already satisfied: simplegeneric>0.8 in /usr/local/lib/python3.7/dist-packages (from ipython>=4.0.0->ipykernel) (0.8.1)\n",
            "Requirement already satisfied: pexpect in /usr/local/lib/python3.7/dist-packages (from ipython>=4.0.0->ipykernel) (4.8.0)\n",
            "Requirement already satisfied: setuptools>=18.5 in /usr/local/lib/python3.7/dist-packages (from ipython>=4.0.0->ipykernel) (53.0.0)\n",
            "Requirement already satisfied: prompt-toolkit<2.0.0,>=1.0.4 in /usr/local/lib/python3.7/dist-packages (from ipython>=4.0.0->ipykernel) (1.0.18)\n",
            "Requirement already satisfied: decorator in /usr/local/lib/python3.7/dist-packages (from ipython>=4.0.0->ipykernel) (4.4.2)\n",
            "Requirement already satisfied: pygments in /usr/local/lib/python3.7/dist-packages (from ipython>=4.0.0->ipykernel) (2.6.1)\n",
            "Requirement already satisfied: pickleshare in /usr/local/lib/python3.7/dist-packages (from ipython>=4.0.0->ipykernel) (0.7.5)\n",
            "Requirement already satisfied: wcwidth in /usr/local/lib/python3.7/dist-packages (from prompt-toolkit<2.0.0,>=1.0.4->ipython>=4.0.0->ipykernel) (0.2.5)\n",
            "Requirement already satisfied: six>=1.9.0 in /usr/local/lib/python3.7/dist-packages (from prompt-toolkit<2.0.0,>=1.0.4->ipython>=4.0.0->ipykernel) (1.15.0)\n",
            "Requirement already satisfied: ipython-genutils in /usr/local/lib/python3.7/dist-packages (from traitlets>=4.1.0->ipykernel) (0.2.0)\n",
            "Requirement already satisfied: jupyter-core>=4.6.0 in /usr/local/lib/python3.7/dist-packages (from jupyter-client->ipykernel) (4.7.1)\n",
            "Requirement already satisfied: python-dateutil>=2.1 in /usr/local/lib/python3.7/dist-packages (from jupyter-client->ipykernel) (2.8.1)\n",
            "Requirement already satisfied: pyzmq>=13 in /usr/local/lib/python3.7/dist-packages (from jupyter-client->ipykernel) (22.0.3)\n",
            "Requirement already satisfied: ptyprocess>=0.5 in /usr/local/lib/python3.7/dist-packages (from pexpect->ipython>=4.0.0->ipykernel) (0.7.0)\n"
          ],
          "name": "stdout"
        }
      ]
    },
    {
      "cell_type": "markdown",
      "metadata": {
        "id": "pHrRki6xy25r"
      },
      "source": [
        "# Create new dataset"
      ]
    },
    {
      "cell_type": "code",
      "metadata": {
        "id": "JTYQ6CByGFDs",
        "colab": {
          "base_uri": "https://localhost:8080/"
        },
        "outputId": "1b7c4d68-84e6-4bdd-ad50-198163b76e16"
      },
      "source": [
        "%cd PatchBundle/tool/\n",
        "!echo 'asd' > token.txt\n",
        "!python3.7 ./PatchBundle.py filter --datasets nvd secbench mozilla secretpatch msr20 -m -v\n",
        "%cd ../.."
      ],
      "execution_count": null,
      "outputs": [
        {
          "output_type": "stream",
          "text": [
            "/content/PatchBundle/tool\n",
            "Filtering nvd\n",
            "Traceback (most recent call last):\n",
            "  File \"./PatchBundle.py\", line 12, in <module>\n",
            "    run(**vars_args)\n",
            "  File \"/content/PatchBundle/tool/input_parser.py\", line 27, in run\n",
            "    opr()\n",
            "  File \"/content/PatchBundle/tool/operations/filter.py\", line 18, in __call__\n",
            "    frames.append(data_set.filter())\n",
            "  File \"/content/PatchBundle/tool/utils/decorators/filter.py\", line 10, in wrapper_reset_index\n",
            "    dataset = func(*args, **kwargs)\n",
            "  File \"/content/PatchBundle/tool/utils/decorators/filter.py\", line 77, in wrapper_max_changes\n",
            "    dataset = func(*args, **kwargs)\n",
            "  File \"/content/PatchBundle/tool/utils/decorators/filter.py\", line 10, in wrapper_reset_index\n",
            "    dataset = func(*args, **kwargs)\n",
            "  File \"/content/PatchBundle/tool/utils/decorators/filter.py\", line 65, in wrapper_equal_adds_dels\n",
            "    dataset = func(*args, **kwargs)\n",
            "  File \"/content/PatchBundle/tool/utils/decorators/filter.py\", line 10, in wrapper_reset_index\n",
            "    dataset = func(*args, **kwargs)\n",
            "  File \"/content/PatchBundle/tool/utils/decorators/filter.py\", line 54, in wrapper_two_chunk_changes\n",
            "    dataset = func(*args, **kwargs)\n",
            "  File \"/content/PatchBundle/tool/utils/decorators/filter.py\", line 10, in wrapper_reset_index\n",
            "    dataset = func(*args, **kwargs)\n",
            "  File \"/content/PatchBundle/tool/utils/decorators/filter.py\", line 20, in wrapper_c_code\n",
            "    dataset = func(*args, **kwargs)\n",
            "  File \"/content/PatchBundle/tool/utils/dataset.py\", line 47, in filter\n",
            "    return pd.read_pickle(filepath_or_buffer=str(self.transformed_file))\n",
            "  File \"/usr/local/lib/python3.7/dist-packages/pandas/io/pickle.py\", line 191, in read_pickle\n",
            "    return pickle.load(handles.handle)  # type: ignore[arg-type]\n",
            "ValueError: unsupported pickle protocol: 5\n",
            "/content\n"
          ],
          "name": "stdout"
        }
      ]
    },
    {
      "cell_type": "markdown",
      "metadata": {
        "id": "eMNzMpMhzxD4"
      },
      "source": [
        "# Preprocess Dataset Only into Source and Target Sets for Stats"
      ]
    },
    {
      "cell_type": "code",
      "metadata": {
        "id": "tfcnSXMapQMg",
        "colab": {
          "base_uri": "https://localhost:8080/"
        },
        "outputId": "57124d0c-36b9-4d65-fb09-877b0e29159b"
      },
      "source": [
        "!python3.7 ./CquenceR/CquenceR.py preprocess -op /tmp/dataset --no_truncation --no_onmt -v "
      ],
      "execution_count": null,
      "outputs": [
        {
          "output_type": "stream",
          "text": [
            "dataset - Count: 10468; Processed: 7156\n",
            "\n",
            "dataset: Dropped 0 records.\n",
            "\n"
          ],
          "name": "stdout"
        }
      ]
    },
    {
      "cell_type": "markdown",
      "metadata": {
        "id": "0QJvMFc-0IRc"
      },
      "source": [
        "# Plot Stats for Dataset"
      ]
    },
    {
      "cell_type": "code",
      "metadata": {
        "id": "Gq6xxao_QYGq",
        "colab": {
          "base_uri": "https://localhost:8080/"
        },
        "outputId": "c8038625-2453-4b91-e21f-9b839580a473"
      },
      "source": [
        "!python3.7 CquenceR/CquenceR.py stats -v -sp /tmp/dataset --save /content/CquenceR/plots"
      ],
      "execution_count": null,
      "outputs": [
        {
          "output_type": "stream",
          "text": [
            "Unique tokens: 35746\n",
            "Hunks with no special tokens: 2\n"
          ],
          "name": "stdout"
        }
      ]
    },
    {
      "cell_type": "markdown",
      "metadata": {
        "id": "qaiAeFW60fW6"
      },
      "source": [
        "# Clean Data"
      ]
    },
    {
      "cell_type": "code",
      "metadata": {
        "id": "5tcZXxGw0lEW",
        "colab": {
          "base_uri": "https://localhost:8080/"
        },
        "outputId": "3d7c1f85-0d19-4b88-aa0f-a7eda3799662"
      },
      "source": [
        "!python3.7 ./CquenceR/CquenceR.py clean -v"
      ],
      "execution_count": 6,
      "outputs": [
        {
          "output_type": "stream",
          "text": [
            "rm -rf /content/CquenceR/data/model 2>&1\n",
            "rm -rf /content/CquenceR/data/input 2>&1\n",
            "rm -rf /content/CquenceR/data/processed 2>&1\n",
            "Cleaned train preprocess test\n"
          ],
          "name": "stdout"
        }
      ]
    },
    {
      "cell_type": "markdown",
      "metadata": {
        "id": "8XU8HyN70SER"
      },
      "source": [
        "# Preprocess Dataset for Training and Testing "
      ]
    },
    {
      "cell_type": "code",
      "metadata": {
        "id": "zgwrpoB4bEUT",
        "colab": {
          "base_uri": "https://localhost:8080/"
        },
        "outputId": "1d737d6c-c904-47a7-916a-14dfb7e33455"
      },
      "source": [
        "!python3.7 ./CquenceR/CquenceR.py preprocess -s train_val_test -v"
      ],
      "execution_count": 7,
      "outputs": [
        {
          "output_type": "stream",
          "text": [
            "Train size: 6082; Val size: 716; Test size: 358\n",
            "'<START_VULN>' is not in list\n",
            "( v -> sequence + 1 != vb -> sequence ) ) { <NEW_LINE> v -> granulepos = - 1 ; <NEW_LINE> b -> sample_count = - 1 ; <NEW_LINE> } <NEW_LINE> v -> sequence = vb -> sequence ; <NEW_LINE> if ( vb -> pcm ) { <NEW_LINE> int n = ci -> blocksizes [ v -> W ] >> ( hs + 1 ) ; <NEW_LINE> int n0 = ci -> blocksizes [ 0 ] >> ( hs + 1 ) ; <NEW_LINE> int n1 = ci -> blocksizes [ 1 ] >> ( hs + 1 ) ; <NEW_LINE> int thisCenter ; <NEW_LINE> int prevCenter ; <NEW_LINE> v -> glue_bits += vb -> glue_bits ;\n",
            "train: No source tokens for record 4903\n",
            "train - Count: 6082; Processed: 6081\n",
            "\n",
            "train: Dropped 1 records.\n",
            "\n",
            "test - Count: 358; Processed: 358\n",
            "\n",
            "test: Dropped 0 records.\n",
            "\n",
            "val - Count: 716; Processed: 716\n",
            "\n",
            "val: Dropped 0 records.\n",
            "\n",
            "command -v onmt_preprocess > /dev/null; echo $?;\n",
            "0\n",
            "onmt_preprocess -train_src /content/CquenceR/data/processed/src-train.txt -train_tgt /content/CquenceR/data/processed/tgt-train.txt -valid_src /content/CquenceR/data/processed/src-val.txt -valid_tgt /content/CquenceR/data/processed/tgt-val.txt --src_seq_length 1010 --tgt_seq_length 200 --src_vocab_size 1000 --tgt_vocab_size 1000 --dynamic_dict --share_vocab --seed 0 --save_data /content/CquenceR/data/input/final 2>&1\n",
            "[2021-03-01 23:16:18,063 INFO] Extracting features...\n",
            "[2021-03-01 23:16:18,063 INFO]  * number of source features: 0.\n",
            "[2021-03-01 23:16:18,063 INFO]  * number of target features: 0.\n",
            "[2021-03-01 23:16:18,063 INFO] Building `Fields` object...\n",
            "[2021-03-01 23:16:18,064 INFO] Building & saving training data...\n",
            "[2021-03-01 23:16:18,091 INFO] Building shard 0.\n",
            "[2021-03-01 23:16:18,846 INFO]  * saving 0th train data shard to /content/CquenceR/data/input/final.train.0.pt.\n",
            "[2021-03-01 23:16:20,292 INFO]  * tgt vocab size: 1004.\n",
            "[2021-03-01 23:16:20,315 INFO]  * src vocab size: 1002.\n",
            "[2021-03-01 23:16:20,315 INFO]  * merging src and tgt vocab...\n",
            "[2021-03-01 23:16:20,362 INFO]  * merged vocab size: 1004.\n",
            "[2021-03-01 23:16:20,415 INFO] Building & saving validation data...\n",
            "[2021-03-01 23:16:20,457 INFO] Building shard 0.\n",
            "[2021-03-01 23:16:20,535 INFO]  * saving 0th valid data shard to /content/CquenceR/data/input/final.valid.0.pt.\n"
          ],
          "name": "stdout"
        }
      ]
    },
    {
      "cell_type": "code",
      "metadata": {
        "colab": {
          "base_uri": "https://localhost:8080/"
        },
        "id": "z8V9Pi30AY6p",
        "outputId": "8a96c0aa-fa38-4da9-d738-522b6ba67c1d"
      },
      "source": [
        "!python3.7 -m pip install --upgrade torchvision==0.6.0"
      ],
      "execution_count": null,
      "outputs": [
        {
          "output_type": "stream",
          "text": [
            "Collecting torchvision==0.6.0\n",
            "  Downloading torchvision-0.6.0-cp37-cp37m-manylinux1_x86_64.whl (6.6 MB)\n",
            "\u001b[K     |████████████████████████████████| 6.6 MB 18.4 MB/s \n",
            "\u001b[?25hCollecting torch==1.5.0\n",
            "  Downloading torch-1.5.0-cp37-cp37m-manylinux1_x86_64.whl (752.0 MB)\n",
            "\u001b[K     |████████████████████████████████| 752.0 MB 7.3 kB/s \n",
            "\u001b[?25hRequirement already satisfied: numpy in /usr/local/lib/python3.7/dist-packages (from torchvision==0.6.0) (1.20.0)\n",
            "Requirement already satisfied: pillow>=4.1.1 in /usr/local/lib/python3.7/dist-packages (from torchvision==0.6.0) (8.1.0)\n",
            "Requirement already satisfied: future in /usr/local/lib/python3.7/dist-packages (from torch==1.5.0->torchvision==0.6.0) (0.18.2)\n",
            "Installing collected packages: torch, torchvision\n",
            "  Attempting uninstall: torch\n",
            "    Found existing installation: torch 1.6.0+cu101\n",
            "    Uninstalling torch-1.6.0+cu101:\n",
            "      Successfully uninstalled torch-1.6.0+cu101\n",
            "  Attempting uninstall: torchvision\n",
            "    Found existing installation: torchvision 0.7.0+cu101\n",
            "    Uninstalling torchvision-0.7.0+cu101:\n",
            "      Successfully uninstalled torchvision-0.7.0+cu101\n",
            "Successfully installed torch-1.5.0 torchvision-0.6.0\n"
          ],
          "name": "stdout"
        }
      ]
    },
    {
      "cell_type": "code",
      "metadata": {
        "id": "zuMMxWWw6-8N",
        "colab": {
          "base_uri": "https://localhost:8080/"
        },
        "outputId": "33b07b1a-3af7-46ac-b674-35c5ff45cab0"
      },
      "source": [
        "%cd CquenceR\n",
        "!git pull \n",
        "%cd .."
      ],
      "execution_count": null,
      "outputs": [
        {
          "output_type": "stream",
          "text": [
            "/content/CquenceR\n",
            "Already up to date.\n",
            "/content\n"
          ],
          "name": "stdout"
        }
      ]
    },
    {
      "cell_type": "code",
      "metadata": {
        "colab": {
          "base_uri": "https://localhost:8080/"
        },
        "id": "09FOL0DnC1Sa",
        "outputId": "ad7a6c54-cf5a-4c66-d746-87fe8640c127"
      },
      "source": [
        "!which onmt_preprocess"
      ],
      "execution_count": null,
      "outputs": [
        {
          "output_type": "stream",
          "text": [
            "/usr/local/bin/onmt_preprocess\n"
          ],
          "name": "stdout"
        }
      ]
    },
    {
      "cell_type": "markdown",
      "metadata": {
        "id": "7lxPp8iC0-cS"
      },
      "source": [
        "# Train with GPU and Plot results (train_plots is the output folder)\n"
      ]
    },
    {
      "cell_type": "markdown",
      "metadata": {
        "id": "jRtKd8mvFhs2"
      },
      "source": [
        "If you can not run with the gpu, update the torch. For that just uncomment the next cell and run it."
      ]
    },
    {
      "cell_type": "code",
      "metadata": {
        "id": "9UCfG8ayFesw"
      },
      "source": [
        "#!python3.7 -m pip  install torch==1.6.0+cu101 torchvision==0.7.0+cu101 -f https://download.pytorch.org/whl/torch_stable.html"
      ],
      "execution_count": null,
      "outputs": []
    },
    {
      "cell_type": "code",
      "metadata": {
        "id": "XD_rYy-as53-",
        "colab": {
          "base_uri": "https://localhost:8080/"
        },
        "outputId": "8a75d3e7-43a1-4c6e-cdfe-31b37f42fe55"
      },
      "source": [
        "!python3.7 CquenceR/CquenceR.py train -v --plot --gpu"
      ],
      "execution_count": 9,
      "outputs": [
        {
          "output_type": "stream",
          "text": [
            "command -v onmt_train > /dev/null; echo $?;\n",
            "0\n",
            "onmt_train -data /content/CquenceR/data/input/final --batch_size 32 --word_vec_size 256 --train_steps 4000 --valid_steps 50 --early_stopping 10 --world_size 1 --save_checkpoint_steps 2000 --gpu_ranks 0 --seed 0 --encoder_type brnn --enc_layers 2 --decoder_type rnn --dec_layers 2 --rnn_size 256 --global_attention general --bridge --copy_attn --reuse_copy_attn -save_model /content/CquenceR/data/model/final-model 2>&1\n",
            "[2021-03-01 23:21:00,875 INFO]  * src vocab size = 1004\n",
            "[2021-03-01 23:21:00,875 INFO]  * tgt vocab size = 1004\n",
            "[2021-03-01 23:21:00,875 INFO] Building model...\n",
            "[2021-03-01 23:21:03,580 INFO] NMTModel(\n",
            "  (encoder): RNNEncoder(\n",
            "    (embeddings): Embeddings(\n",
            "      (make_embedding): Sequential(\n",
            "        (emb_luts): Elementwise(\n",
            "          (0): Embedding(1004, 256, padding_idx=1)\n",
            "        )\n",
            "      )\n",
            "    )\n",
            "    (rnn): LSTM(256, 128, num_layers=2, dropout=0.3, bidirectional=True)\n",
            "    (bridge): ModuleList(\n",
            "      (0): Linear(in_features=256, out_features=256, bias=True)\n",
            "      (1): Linear(in_features=256, out_features=256, bias=True)\n",
            "    )\n",
            "  )\n",
            "  (decoder): InputFeedRNNDecoder(\n",
            "    (embeddings): Embeddings(\n",
            "      (make_embedding): Sequential(\n",
            "        (emb_luts): Elementwise(\n",
            "          (0): Embedding(1004, 256, padding_idx=1)\n",
            "        )\n",
            "      )\n",
            "    )\n",
            "    (dropout): Dropout(p=0.3, inplace=False)\n",
            "    (rnn): StackedLSTM(\n",
            "      (dropout): Dropout(p=0.3, inplace=False)\n",
            "      (layers): ModuleList(\n",
            "        (0): LSTMCell(512, 256)\n",
            "        (1): LSTMCell(256, 256)\n",
            "      )\n",
            "    )\n",
            "    (attn): GlobalAttention(\n",
            "      (linear_in): Linear(in_features=256, out_features=256, bias=False)\n",
            "      (linear_out): Linear(in_features=512, out_features=256, bias=False)\n",
            "    )\n",
            "  )\n",
            "  (generator): CopyGenerator(\n",
            "    (linear): Linear(in_features=256, out_features=1004, bias=True)\n",
            "    (linear_copy): Linear(in_features=256, out_features=1, bias=True)\n",
            "  )\n",
            ")\n",
            "[2021-03-01 23:21:03,581 INFO] encoder: 1179136\n",
            "[2021-03-01 23:21:03,581 INFO] decoder: 2026733\n",
            "[2021-03-01 23:21:03,581 INFO] * number of parameters: 3205869\n",
            "[2021-03-01 23:21:03,584 INFO] Starting training on GPU: [0]\n",
            "[2021-03-01 23:21:03,584 INFO] Start training loop and validate every 50 steps...\n",
            "[2021-03-01 23:21:03,584 INFO] Loading dataset from /content/CquenceR/data/input/final.train.0.pt\n",
            "[2021-03-01 23:21:04,847 INFO] number of examples: 6081\n",
            "/usr/local/lib/python3.7/dist-packages/torchtext/data/field.py:359: UserWarning: To copy construct from a tensor, it is recommended to use sourceTensor.clone().detach() or sourceTensor.clone().detach().requires_grad_(True), rather than torch.tensor(sourceTensor).\n",
            "  var = torch.tensor(arr, dtype=self.dtype, device=device)\n",
            "[2021-03-01 23:21:11,677 INFO] Step 50/ 4000; acc:  10.25; ppl: 151.15; xent: 5.02; lr: 1.00000; 12459/3482 tok/s;      8 sec\n",
            "[2021-03-01 23:21:11,677 INFO] Loading dataset from /content/CquenceR/data/input/final.valid.0.pt\n",
            "[2021-03-01 23:21:11,785 INFO] number of examples: 716\n",
            "[2021-03-01 23:21:13,707 INFO] Validation perplexity: 62.4615\n",
            "[2021-03-01 23:21:13,707 INFO] Validation accuracy: 10.4245\n",
            "[2021-03-01 23:21:13,707 INFO] Model is improving ppl: inf --> 62.4615.\n",
            "[2021-03-01 23:21:13,707 INFO] Model is improving acc: -inf --> 10.4245.\n",
            "[2021-03-01 23:21:20,867 INFO] Step 100/ 4000; acc:  12.56; ppl: 87.55; xent: 4.47; lr: 1.00000; 10608/3103 tok/s;     17 sec\n",
            "[2021-03-01 23:21:20,867 INFO] Loading dataset from /content/CquenceR/data/input/final.valid.0.pt\n",
            "[2021-03-01 23:21:20,964 INFO] number of examples: 716\n",
            "[2021-03-01 23:21:22,915 INFO] Validation perplexity: 66.811\n",
            "[2021-03-01 23:21:22,915 INFO] Validation accuracy: 16.673\n",
            "[2021-03-01 23:21:22,915 INFO] Stalled patience: 9/10\n",
            "[2021-03-01 23:21:29,401 INFO] Step 150/ 4000; acc:  15.37; ppl: 48.40; xent: 3.88; lr: 1.00000; 10581/3440 tok/s;     26 sec\n",
            "[2021-03-01 23:21:29,402 INFO] Loading dataset from /content/CquenceR/data/input/final.valid.0.pt\n",
            "[2021-03-01 23:21:29,501 INFO] number of examples: 716\n",
            "[2021-03-01 23:21:31,526 INFO] Validation perplexity: 41.1838\n",
            "[2021-03-01 23:21:31,526 INFO] Validation accuracy: 19.3346\n",
            "[2021-03-01 23:21:31,526 INFO] Model is improving ppl: 62.4615 --> 41.1838.\n",
            "[2021-03-01 23:21:31,526 INFO] Model is improving acc: 10.4245 --> 19.3346.\n",
            "[2021-03-01 23:21:37,744 INFO] Loading dataset from /content/CquenceR/data/input/final.train.0.pt\n",
            "[2021-03-01 23:21:38,790 INFO] number of examples: 6081\n",
            "[2021-03-01 23:21:40,027 INFO] Step 200/ 4000; acc:  24.07; ppl: 26.61; xent: 3.28; lr: 1.00000; 9630/2685 tok/s;     36 sec\n",
            "[2021-03-01 23:21:40,028 INFO] Loading dataset from /content/CquenceR/data/input/final.valid.0.pt\n",
            "[2021-03-01 23:21:40,121 INFO] number of examples: 716\n",
            "[2021-03-01 23:21:42,121 INFO] Validation perplexity: 22.4537\n",
            "[2021-03-01 23:21:42,121 INFO] Validation accuracy: 20.696\n",
            "[2021-03-01 23:21:42,121 INFO] Model is improving ppl: 41.1838 --> 22.4537.\n",
            "[2021-03-01 23:21:42,122 INFO] Model is improving acc: 19.3346 --> 20.696.\n",
            "[2021-03-01 23:21:49,491 INFO] Step 250/ 4000; acc:  32.74; ppl: 15.70; xent: 2.75; lr: 1.00000; 11059/3055 tok/s;     46 sec\n",
            "[2021-03-01 23:21:49,491 INFO] Loading dataset from /content/CquenceR/data/input/final.valid.0.pt\n",
            "[2021-03-01 23:21:49,587 INFO] number of examples: 716\n",
            "[2021-03-01 23:21:51,541 INFO] Validation perplexity: 8.90847\n",
            "[2021-03-01 23:21:51,541 INFO] Validation accuracy: 46.6692\n",
            "[2021-03-01 23:21:51,542 INFO] Model is improving ppl: 22.4537 --> 8.90847.\n",
            "[2021-03-01 23:21:51,542 INFO] Model is improving acc: 20.696 --> 46.6692.\n",
            "[2021-03-01 23:21:58,312 INFO] Step 300/ 4000; acc:  40.85; ppl: 11.62; xent: 2.45; lr: 1.00000; 10546/3184 tok/s;     55 sec\n",
            "[2021-03-01 23:21:58,312 INFO] Loading dataset from /content/CquenceR/data/input/final.valid.0.pt\n",
            "[2021-03-01 23:21:58,493 INFO] number of examples: 716\n",
            "[2021-03-01 23:22:00,468 INFO] Validation perplexity: 8.40302\n",
            "[2021-03-01 23:22:00,468 INFO] Validation accuracy: 47.4493\n",
            "[2021-03-01 23:22:00,468 INFO] Model is improving ppl: 8.90847 --> 8.40302.\n",
            "[2021-03-01 23:22:00,468 INFO] Model is improving acc: 46.6692 --> 47.4493.\n",
            "[2021-03-01 23:22:07,340 INFO] Step 350/ 4000; acc:  44.22; ppl:  9.70; xent: 2.27; lr: 1.00000; 10591/3285 tok/s;     64 sec\n",
            "[2021-03-01 23:22:07,340 INFO] Loading dataset from /content/CquenceR/data/input/final.valid.0.pt\n",
            "[2021-03-01 23:22:07,438 INFO] number of examples: 716\n",
            "[2021-03-01 23:22:09,429 INFO] Validation perplexity: 7.49384\n",
            "[2021-03-01 23:22:09,429 INFO] Validation accuracy: 47.3117\n",
            "[2021-03-01 23:22:09,429 INFO] Stalled patience: 9/10\n",
            "[2021-03-01 23:22:14,343 INFO] Loading dataset from /content/CquenceR/data/input/final.train.0.pt\n",
            "[2021-03-01 23:22:15,401 INFO] number of examples: 6081\n",
            "[2021-03-01 23:22:17,956 INFO] Step 400/ 4000; acc:  47.95; ppl:  8.98; xent: 2.20; lr: 1.00000; 9778/2659 tok/s;     74 sec\n",
            "[2021-03-01 23:22:17,957 INFO] Loading dataset from /content/CquenceR/data/input/final.valid.0.pt\n",
            "[2021-03-01 23:22:18,050 INFO] number of examples: 716\n",
            "[2021-03-01 23:22:20,004 INFO] Validation perplexity: 7.80405\n",
            "[2021-03-01 23:22:20,005 INFO] Validation accuracy: 55.8623\n",
            "[2021-03-01 23:22:20,005 INFO] Model is improving ppl: 8.40302 --> 7.80405.\n",
            "[2021-03-01 23:22:20,005 INFO] Model is improving acc: 47.4493 --> 55.8623.\n",
            "[2021-03-01 23:22:27,225 INFO] Step 450/ 4000; acc:  51.49; ppl:  7.48; xent: 2.01; lr: 1.00000; 10422/3000 tok/s;     84 sec\n",
            "[2021-03-01 23:22:27,225 INFO] Loading dataset from /content/CquenceR/data/input/final.valid.0.pt\n",
            "[2021-03-01 23:22:27,320 INFO] number of examples: 716\n",
            "[2021-03-01 23:22:29,243 INFO] Validation perplexity: 8.00987\n",
            "[2021-03-01 23:22:29,243 INFO] Validation accuracy: 57.3308\n",
            "[2021-03-01 23:22:29,244 INFO] Stalled patience: 9/10\n",
            "[2021-03-01 23:22:36,078 INFO] Step 500/ 4000; acc:  54.59; ppl:  6.59; xent: 1.89; lr: 1.00000; 11018/3435 tok/s;     92 sec\n",
            "[2021-03-01 23:22:36,078 INFO] Loading dataset from /content/CquenceR/data/input/final.valid.0.pt\n",
            "[2021-03-01 23:22:36,174 INFO] number of examples: 716\n",
            "[2021-03-01 23:22:38,123 INFO] Validation perplexity: 5.7615\n",
            "[2021-03-01 23:22:38,123 INFO] Validation accuracy: 61.8815\n",
            "[2021-03-01 23:22:38,123 INFO] Model is improving ppl: 7.80405 --> 5.7615.\n",
            "[2021-03-01 23:22:38,123 INFO] Model is improving acc: 55.8623 --> 61.8815.\n",
            "[2021-03-01 23:22:45,466 INFO] Step 550/ 4000; acc:  58.20; ppl:  6.03; xent: 1.80; lr: 1.00000; 10548/2979 tok/s;    102 sec\n",
            "[2021-03-01 23:22:45,466 INFO] Loading dataset from /content/CquenceR/data/input/final.valid.0.pt\n",
            "[2021-03-01 23:22:45,674 INFO] number of examples: 716\n",
            "[2021-03-01 23:22:47,661 INFO] Validation perplexity: 5.00282\n",
            "[2021-03-01 23:22:47,661 INFO] Validation accuracy: 62.9293\n",
            "[2021-03-01 23:22:47,661 INFO] Model is improving ppl: 5.7615 --> 5.00282.\n",
            "[2021-03-01 23:22:47,662 INFO] Model is improving acc: 61.8815 --> 62.9293.\n",
            "[2021-03-01 23:22:50,873 INFO] Loading dataset from /content/CquenceR/data/input/final.train.0.pt\n",
            "[2021-03-01 23:22:52,030 INFO] number of examples: 6081\n",
            "[2021-03-01 23:22:55,775 INFO] Step 600/ 4000; acc:  57.77; ppl:  6.02; xent: 1.80; lr: 1.00000; 9768/2703 tok/s;    112 sec\n",
            "[2021-03-01 23:22:55,776 INFO] Loading dataset from /content/CquenceR/data/input/final.valid.0.pt\n",
            "[2021-03-01 23:22:55,869 INFO] number of examples: 716\n",
            "[2021-03-01 23:22:57,821 INFO] Validation perplexity: 4.70213\n",
            "[2021-03-01 23:22:57,821 INFO] Validation accuracy: 64.1759\n",
            "[2021-03-01 23:22:57,822 INFO] Model is improving ppl: 5.00282 --> 4.70213.\n",
            "[2021-03-01 23:22:57,822 INFO] Model is improving acc: 62.9293 --> 64.1759.\n",
            "[2021-03-01 23:23:05,049 INFO] Step 650/ 4000; acc:  59.83; ppl:  5.41; xent: 1.69; lr: 1.00000; 10242/2937 tok/s;    121 sec\n",
            "[2021-03-01 23:23:05,050 INFO] Loading dataset from /content/CquenceR/data/input/final.valid.0.pt\n",
            "[2021-03-01 23:23:05,147 INFO] number of examples: 716\n",
            "[2021-03-01 23:23:07,125 INFO] Validation perplexity: 4.39249\n",
            "[2021-03-01 23:23:07,125 INFO] Validation accuracy: 65.1625\n",
            "[2021-03-01 23:23:07,125 INFO] Model is improving ppl: 4.70213 --> 4.39249.\n",
            "[2021-03-01 23:23:07,125 INFO] Model is improving acc: 64.1759 --> 65.1625.\n",
            "[2021-03-01 23:23:14,407 INFO] Step 700/ 4000; acc:  60.43; ppl:  5.19; xent: 1.65; lr: 1.00000; 10321/3376 tok/s;    131 sec\n",
            "[2021-03-01 23:23:14,407 INFO] Loading dataset from /content/CquenceR/data/input/final.valid.0.pt\n",
            "[2021-03-01 23:23:14,504 INFO] number of examples: 716\n",
            "[2021-03-01 23:23:16,485 INFO] Validation perplexity: 5.26714\n",
            "[2021-03-01 23:23:16,485 INFO] Validation accuracy: 66.0574\n",
            "[2021-03-01 23:23:16,485 INFO] Stalled patience: 9/10\n",
            "[2021-03-01 23:23:23,368 INFO] Step 750/ 4000; acc:  63.91; ppl:  4.70; xent: 1.55; lr: 1.00000; 10885/3017 tok/s;    140 sec\n",
            "[2021-03-01 23:23:23,368 INFO] Loading dataset from /content/CquenceR/data/input/final.valid.0.pt\n",
            "[2021-03-01 23:23:23,465 INFO] number of examples: 716\n",
            "[2021-03-01 23:23:25,462 INFO] Validation perplexity: 4.0751\n",
            "[2021-03-01 23:23:25,462 INFO] Validation accuracy: 67.7859\n",
            "[2021-03-01 23:23:25,462 INFO] Model is improving ppl: 4.39249 --> 4.0751.\n",
            "[2021-03-01 23:23:25,462 INFO] Model is improving acc: 65.1625 --> 67.7859.\n",
            "[2021-03-01 23:23:27,795 INFO] Loading dataset from /content/CquenceR/data/input/final.train.0.pt\n",
            "[2021-03-01 23:23:28,874 INFO] number of examples: 6081\n",
            "[2021-03-01 23:23:34,041 INFO] Step 800/ 4000; acc:  61.40; ppl:  5.14; xent: 1.64; lr: 1.00000; 9825/2778 tok/s;    150 sec\n",
            "[2021-03-01 23:23:34,042 INFO] Loading dataset from /content/CquenceR/data/input/final.valid.0.pt\n",
            "[2021-03-01 23:23:34,136 INFO] number of examples: 716\n",
            "[2021-03-01 23:23:36,093 INFO] Validation perplexity: 4.97491\n",
            "[2021-03-01 23:23:36,093 INFO] Validation accuracy: 67.7553\n",
            "[2021-03-01 23:23:36,093 INFO] Decreasing patience: 9/10\n",
            "[2021-03-01 23:23:43,010 INFO] Step 850/ 4000; acc:  65.90; ppl:  4.21; xent: 1.44; lr: 1.00000; 10654/2997 tok/s;    159 sec\n",
            "[2021-03-01 23:23:43,011 INFO] Loading dataset from /content/CquenceR/data/input/final.valid.0.pt\n",
            "[2021-03-01 23:23:43,107 INFO] number of examples: 716\n",
            "[2021-03-01 23:23:45,067 INFO] Validation perplexity: 4.19543\n",
            "[2021-03-01 23:23:45,067 INFO] Validation accuracy: 65.6138\n",
            "[2021-03-01 23:23:45,067 INFO] Decreasing patience: 8/10\n",
            "[2021-03-01 23:23:51,874 INFO] Step 900/ 4000; acc:  64.98; ppl:  4.37; xent: 1.47; lr: 1.00000; 10451/3366 tok/s;    168 sec\n",
            "[2021-03-01 23:23:51,874 INFO] Loading dataset from /content/CquenceR/data/input/final.valid.0.pt\n",
            "[2021-03-01 23:23:52,080 INFO] number of examples: 716\n",
            "[2021-03-01 23:23:54,090 INFO] Validation perplexity: 3.86413\n",
            "[2021-03-01 23:23:54,090 INFO] Validation accuracy: 69.0937\n",
            "[2021-03-01 23:23:54,090 INFO] Model is improving ppl: 4.0751 --> 3.86413.\n",
            "[2021-03-01 23:23:54,090 INFO] Model is improving acc: 67.7859 --> 69.0937.\n",
            "[2021-03-01 23:24:01,540 INFO] Step 950/ 4000; acc:  66.23; ppl:  4.13; xent: 1.42; lr: 1.00000; 10607/3007 tok/s;    178 sec\n",
            "[2021-03-01 23:24:01,540 INFO] Loading dataset from /content/CquenceR/data/input/final.valid.0.pt\n",
            "[2021-03-01 23:24:01,636 INFO] number of examples: 716\n",
            "[2021-03-01 23:24:03,583 INFO] Validation perplexity: 3.71192\n",
            "[2021-03-01 23:24:03,583 INFO] Validation accuracy: 68.0459\n",
            "[2021-03-01 23:24:03,583 INFO] Stalled patience: 9/10\n",
            "[2021-03-01 23:24:04,521 INFO] Loading dataset from /content/CquenceR/data/input/final.train.0.pt\n",
            "[2021-03-01 23:24:05,644 INFO] number of examples: 6081\n",
            "[2021-03-01 23:24:11,859 INFO] Step 1000/ 4000; acc:  64.16; ppl:  4.52; xent: 1.51; lr: 1.00000; 10002/2775 tok/s;    188 sec\n",
            "[2021-03-01 23:24:11,859 INFO] Loading dataset from /content/CquenceR/data/input/final.valid.0.pt\n",
            "[2021-03-01 23:24:11,953 INFO] number of examples: 716\n",
            "[2021-03-01 23:24:13,966 INFO] Validation perplexity: 3.73429\n",
            "[2021-03-01 23:24:13,966 INFO] Validation accuracy: 68.7725\n",
            "[2021-03-01 23:24:13,966 INFO] Stalled patience: 8/10\n",
            "[2021-03-01 23:24:21,333 INFO] Step 1050/ 4000; acc:  67.57; ppl:  3.75; xent: 1.32; lr: 1.00000; 10207/3022 tok/s;    198 sec\n",
            "[2021-03-01 23:24:21,333 INFO] Loading dataset from /content/CquenceR/data/input/final.valid.0.pt\n",
            "[2021-03-01 23:24:21,430 INFO] number of examples: 716\n",
            "[2021-03-01 23:24:23,395 INFO] Validation perplexity: 4.42404\n",
            "[2021-03-01 23:24:23,395 INFO] Validation accuracy: 61.1243\n",
            "[2021-03-01 23:24:23,395 INFO] Decreasing patience: 9/10\n",
            "[2021-03-01 23:24:29,806 INFO] Step 1100/ 4000; acc:  68.89; ppl:  3.54; xent: 1.26; lr: 1.00000; 10709/3391 tok/s;    206 sec\n",
            "[2021-03-01 23:24:29,806 INFO] Loading dataset from /content/CquenceR/data/input/final.valid.0.pt\n",
            "[2021-03-01 23:24:29,912 INFO] number of examples: 716\n",
            "[2021-03-01 23:24:31,883 INFO] Validation perplexity: 3.48201\n",
            "[2021-03-01 23:24:31,884 INFO] Validation accuracy: 71.2964\n",
            "[2021-03-01 23:24:31,884 INFO] Model is improving ppl: 3.86413 --> 3.48201.\n",
            "[2021-03-01 23:24:31,884 INFO] Model is improving acc: 69.0937 --> 71.2964.\n",
            "[2021-03-01 23:24:38,952 INFO] Loading dataset from /content/CquenceR/data/input/final.train.0.pt\n",
            "[2021-03-01 23:24:40,035 INFO] number of examples: 6081\n",
            "[2021-03-01 23:24:40,624 INFO] Step 1150/ 4000; acc:  68.20; ppl:  3.77; xent: 1.33; lr: 1.00000; 9698/2643 tok/s;    217 sec\n",
            "[2021-03-01 23:24:40,625 INFO] Loading dataset from /content/CquenceR/data/input/final.valid.0.pt\n",
            "[2021-03-01 23:24:40,830 INFO] number of examples: 716\n",
            "[2021-03-01 23:24:42,811 INFO] Validation perplexity: 3.33314\n",
            "[2021-03-01 23:24:42,811 INFO] Validation accuracy: 71.1969\n",
            "[2021-03-01 23:24:42,811 INFO] Stalled patience: 9/10\n",
            "[2021-03-01 23:24:50,204 INFO] Step 1200/ 4000; acc:  67.41; ppl:  3.70; xent: 1.31; lr: 1.00000; 10884/3040 tok/s;    227 sec\n",
            "[2021-03-01 23:24:50,205 INFO] Loading dataset from /content/CquenceR/data/input/final.valid.0.pt\n",
            "[2021-03-01 23:24:50,301 INFO] number of examples: 716\n",
            "[2021-03-01 23:24:52,240 INFO] Validation perplexity: 3.47598\n",
            "[2021-03-01 23:24:52,240 INFO] Validation accuracy: 68.7419\n",
            "[2021-03-01 23:24:52,240 INFO] Stalled patience: 8/10\n",
            "[2021-03-01 23:24:59,235 INFO] Step 1250/ 4000; acc:  71.37; ppl:  3.18; xent: 1.16; lr: 1.00000; 10653/3154 tok/s;    236 sec\n",
            "[2021-03-01 23:24:59,236 INFO] Loading dataset from /content/CquenceR/data/input/final.valid.0.pt\n",
            "[2021-03-01 23:24:59,332 INFO] number of examples: 716\n",
            "[2021-03-01 23:25:01,280 INFO] Validation perplexity: 3.98417\n",
            "[2021-03-01 23:25:01,280 INFO] Validation accuracy: 71.1128\n",
            "[2021-03-01 23:25:01,280 INFO] Decreasing patience: 9/10\n",
            "[2021-03-01 23:25:07,954 INFO] Step 1300/ 4000; acc:  69.15; ppl:  3.41; xent: 1.23; lr: 1.00000; 10350/3349 tok/s;    244 sec\n",
            "[2021-03-01 23:25:07,954 INFO] Loading dataset from /content/CquenceR/data/input/final.valid.0.pt\n",
            "[2021-03-01 23:25:08,051 INFO] number of examples: 716\n",
            "[2021-03-01 23:25:10,020 INFO] Validation perplexity: 3.32967\n",
            "[2021-03-01 23:25:10,020 INFO] Validation accuracy: 67.9694\n",
            "[2021-03-01 23:25:10,020 INFO] Stalled patience: 7/10\n",
            "[2021-03-01 23:25:15,520 INFO] Loading dataset from /content/CquenceR/data/input/final.train.0.pt\n",
            "[2021-03-01 23:25:16,618 INFO] number of examples: 6081\n",
            "[2021-03-01 23:25:18,293 INFO] Step 1350/ 4000; acc:  69.97; ppl:  3.44; xent: 1.23; lr: 1.00000; 9827/2697 tok/s;    255 sec\n",
            "[2021-03-01 23:25:18,293 INFO] Loading dataset from /content/CquenceR/data/input/final.valid.0.pt\n",
            "[2021-03-01 23:25:18,393 INFO] number of examples: 716\n",
            "[2021-03-01 23:25:20,351 INFO] Validation perplexity: 3.14157\n",
            "[2021-03-01 23:25:20,352 INFO] Validation accuracy: 73.2467\n",
            "[2021-03-01 23:25:20,352 INFO] Model is improving ppl: 3.48201 --> 3.14157.\n",
            "[2021-03-01 23:25:20,352 INFO] Model is improving acc: 71.2964 --> 73.2467.\n",
            "[2021-03-01 23:25:27,665 INFO] Step 1400/ 4000; acc:  70.10; ppl:  3.29; xent: 1.19; lr: 1.00000; 10854/3098 tok/s;    264 sec\n",
            "[2021-03-01 23:25:27,665 INFO] Loading dataset from /content/CquenceR/data/input/final.valid.0.pt\n",
            "[2021-03-01 23:25:27,880 INFO] number of examples: 716\n",
            "[2021-03-01 23:25:29,894 INFO] Validation perplexity: 3.62825\n",
            "[2021-03-01 23:25:29,894 INFO] Validation accuracy: 72.5583\n",
            "[2021-03-01 23:25:29,894 INFO] Decreasing patience: 9/10\n",
            "[2021-03-01 23:25:36,793 INFO] Step 1450/ 4000; acc:  72.57; ppl:  3.02; xent: 1.11; lr: 1.00000; 10294/3209 tok/s;    273 sec\n",
            "[2021-03-01 23:25:36,793 INFO] Loading dataset from /content/CquenceR/data/input/final.valid.0.pt\n",
            "[2021-03-01 23:25:36,889 INFO] number of examples: 716\n",
            "[2021-03-01 23:25:38,859 INFO] Validation perplexity: 3.39327\n",
            "[2021-03-01 23:25:38,859 INFO] Validation accuracy: 70.5698\n",
            "[2021-03-01 23:25:38,859 INFO] Decreasing patience: 8/10\n",
            "[2021-03-01 23:25:45,874 INFO] Step 1500/ 4000; acc:  72.36; ppl:  3.02; xent: 1.11; lr: 1.00000; 10707/3118 tok/s;    282 sec\n",
            "[2021-03-01 23:25:45,875 INFO] Loading dataset from /content/CquenceR/data/input/final.valid.0.pt\n",
            "[2021-03-01 23:25:45,975 INFO] number of examples: 716\n",
            "[2021-03-01 23:25:47,937 INFO] Validation perplexity: 3.02019\n",
            "[2021-03-01 23:25:47,937 INFO] Validation accuracy: 73.9885\n",
            "[2021-03-01 23:25:47,937 INFO] Model is improving ppl: 3.14157 --> 3.02019.\n",
            "[2021-03-01 23:25:47,937 INFO] Model is improving acc: 73.2467 --> 73.9885.\n",
            "[2021-03-01 23:25:52,178 INFO] Loading dataset from /content/CquenceR/data/input/final.train.0.pt\n",
            "[2021-03-01 23:25:53,311 INFO] number of examples: 6081\n",
            "[2021-03-01 23:25:56,397 INFO] Step 1550/ 4000; acc:  71.33; ppl:  3.21; xent: 1.17; lr: 1.00000; 9733/2657 tok/s;    293 sec\n",
            "[2021-03-01 23:25:56,397 INFO] Loading dataset from /content/CquenceR/data/input/final.valid.0.pt\n",
            "[2021-03-01 23:25:56,491 INFO] number of examples: 716\n",
            "[2021-03-01 23:25:58,443 INFO] Validation perplexity: 3.04449\n",
            "[2021-03-01 23:25:58,443 INFO] Validation accuracy: 74.0421\n",
            "[2021-03-01 23:25:58,443 INFO] Stalled patience: 9/10\n",
            "[2021-03-01 23:26:05,767 INFO] Step 1600/ 4000; acc:  73.15; ppl:  2.92; xent: 1.07; lr: 1.00000; 10438/2983 tok/s;    302 sec\n",
            "[2021-03-01 23:26:05,768 INFO] Loading dataset from /content/CquenceR/data/input/final.valid.0.pt\n",
            "[2021-03-01 23:26:05,864 INFO] number of examples: 716\n",
            "[2021-03-01 23:26:07,778 INFO] Validation perplexity: 3.45973\n",
            "[2021-03-01 23:26:07,778 INFO] Validation accuracy: 68.4512\n",
            "[2021-03-01 23:26:07,778 INFO] Decreasing patience: 9/10\n",
            "[2021-03-01 23:26:14,479 INFO] Step 1650/ 4000; acc:  73.33; ppl:  2.89; xent: 1.06; lr: 1.00000; 10969/3553 tok/s;    311 sec\n",
            "[2021-03-01 23:26:14,479 INFO] Loading dataset from /content/CquenceR/data/input/final.valid.0.pt\n",
            "[2021-03-01 23:26:14,576 INFO] number of examples: 716\n",
            "[2021-03-01 23:26:16,510 INFO] Validation perplexity: 3.13097\n",
            "[2021-03-01 23:26:16,510 INFO] Validation accuracy: 72.4818\n",
            "[2021-03-01 23:26:16,510 INFO] Decreasing patience: 8/10\n",
            "[2021-03-01 23:26:23,714 INFO] Step 1700/ 4000; acc:  73.28; ppl:  2.90; xent: 1.07; lr: 1.00000; 10701/2959 tok/s;    320 sec\n",
            "[2021-03-01 23:26:23,715 INFO] Loading dataset from /content/CquenceR/data/input/final.valid.0.pt\n",
            "[2021-03-01 23:26:23,927 INFO] number of examples: 716\n",
            "[2021-03-01 23:26:25,880 INFO] Validation perplexity: 3.14449\n",
            "[2021-03-01 23:26:25,880 INFO] Validation accuracy: 70.2486\n",
            "[2021-03-01 23:26:25,880 INFO] Decreasing patience: 7/10\n",
            "[2021-03-01 23:26:28,690 INFO] Loading dataset from /content/CquenceR/data/input/final.train.0.pt\n",
            "[2021-03-01 23:26:29,851 INFO] number of examples: 6081\n",
            "[2021-03-01 23:26:34,221 INFO] Step 1750/ 4000; acc:  72.44; ppl:  3.00; xent: 1.10; lr: 1.00000; 9795/2764 tok/s;    331 sec\n",
            "[2021-03-01 23:26:34,221 INFO] Loading dataset from /content/CquenceR/data/input/final.valid.0.pt\n",
            "[2021-03-01 23:26:34,322 INFO] number of examples: 716\n",
            "[2021-03-01 23:26:36,253 INFO] Validation perplexity: 2.91878\n",
            "[2021-03-01 23:26:36,253 INFO] Validation accuracy: 72.7648\n",
            "[2021-03-01 23:26:36,253 INFO] Stalled patience: 8/10\n",
            "[2021-03-01 23:26:43,383 INFO] Step 1800/ 4000; acc:  75.50; ppl:  2.61; xent: 0.96; lr: 1.00000; 10528/2953 tok/s;    340 sec\n",
            "[2021-03-01 23:26:43,383 INFO] Loading dataset from /content/CquenceR/data/input/final.valid.0.pt\n",
            "[2021-03-01 23:26:43,479 INFO] number of examples: 716\n",
            "[2021-03-01 23:26:45,443 INFO] Validation perplexity: 2.92996\n",
            "[2021-03-01 23:26:45,443 INFO] Validation accuracy: 74.7304\n",
            "[2021-03-01 23:26:45,443 INFO] Model is improving ppl: 3.02019 --> 2.92996.\n",
            "[2021-03-01 23:26:45,443 INFO] Model is improving acc: 73.9885 --> 74.7304.\n",
            "[2021-03-01 23:26:52,196 INFO] Step 1850/ 4000; acc:  74.43; ppl:  2.76; xent: 1.01; lr: 1.00000; 10401/3400 tok/s;    349 sec\n",
            "[2021-03-01 23:26:52,196 INFO] Loading dataset from /content/CquenceR/data/input/final.valid.0.pt\n",
            "[2021-03-01 23:26:52,295 INFO] number of examples: 716\n",
            "[2021-03-01 23:26:54,335 INFO] Validation perplexity: 2.99951\n",
            "[2021-03-01 23:26:54,335 INFO] Validation accuracy: 72.5507\n",
            "[2021-03-01 23:26:54,335 INFO] Decreasing patience: 9/10\n",
            "[2021-03-01 23:27:01,371 INFO] Step 1900/ 4000; acc:  74.65; ppl:  2.73; xent: 1.01; lr: 1.00000; 10927/3115 tok/s;    358 sec\n",
            "[2021-03-01 23:27:01,372 INFO] Loading dataset from /content/CquenceR/data/input/final.valid.0.pt\n",
            "[2021-03-01 23:27:01,470 INFO] number of examples: 716\n",
            "[2021-03-01 23:27:03,445 INFO] Validation perplexity: 2.99637\n",
            "[2021-03-01 23:27:03,445 INFO] Validation accuracy: 73.0172\n",
            "[2021-03-01 23:27:03,445 INFO] Decreasing patience: 8/10\n",
            "[2021-03-01 23:27:05,262 INFO] Loading dataset from /content/CquenceR/data/input/final.train.0.pt\n",
            "[2021-03-01 23:27:06,380 INFO] number of examples: 6081\n",
            "[2021-03-01 23:27:11,940 INFO] Step 1950/ 4000; acc:  73.02; ppl:  2.89; xent: 1.06; lr: 1.00000; 9958/2757 tok/s;    368 sec\n",
            "[2021-03-01 23:27:11,941 INFO] Loading dataset from /content/CquenceR/data/input/final.valid.0.pt\n",
            "[2021-03-01 23:27:12,039 INFO] number of examples: 716\n",
            "[2021-03-01 23:27:14,032 INFO] Validation perplexity: 2.83244\n",
            "[2021-03-01 23:27:14,032 INFO] Validation accuracy: 75.3652\n",
            "[2021-03-01 23:27:14,032 INFO] Model is improving ppl: 2.92996 --> 2.83244.\n",
            "[2021-03-01 23:27:14,032 INFO] Model is improving acc: 74.7304 --> 75.3652.\n",
            "[2021-03-01 23:27:21,264 INFO] Step 2000/ 4000; acc:  75.87; ppl:  2.48; xent: 0.91; lr: 1.00000; 10239/2932 tok/s;    378 sec\n",
            "[2021-03-01 23:27:21,265 INFO] Loading dataset from /content/CquenceR/data/input/final.valid.0.pt\n",
            "[2021-03-01 23:27:21,471 INFO] number of examples: 716\n",
            "[2021-03-01 23:27:23,424 INFO] Validation perplexity: 2.88243\n",
            "[2021-03-01 23:27:23,424 INFO] Validation accuracy: 72.979\n",
            "[2021-03-01 23:27:23,424 INFO] Decreasing patience: 9/10\n",
            "[2021-03-01 23:27:23,525 INFO] Saving checkpoint /content/CquenceR/data/model/final-model_step_2000.pt\n",
            "[2021-03-01 23:27:30,307 INFO] Step 2050/ 4000; acc:  75.82; ppl:  2.59; xent: 0.95; lr: 1.00000; 10309/3307 tok/s;    387 sec\n",
            "[2021-03-01 23:27:30,308 INFO] Loading dataset from /content/CquenceR/data/input/final.valid.0.pt\n",
            "[2021-03-01 23:27:30,406 INFO] number of examples: 716\n",
            "[2021-03-01 23:27:32,346 INFO] Validation perplexity: 2.98749\n",
            "[2021-03-01 23:27:32,346 INFO] Validation accuracy: 70.1415\n",
            "[2021-03-01 23:27:32,346 INFO] Decreasing patience: 8/10\n",
            "[2021-03-01 23:27:39,733 INFO] Step 2100/ 4000; acc:  75.56; ppl:  2.56; xent: 0.94; lr: 1.00000; 11082/3077 tok/s;    396 sec\n",
            "[2021-03-01 23:27:39,733 INFO] Loading dataset from /content/CquenceR/data/input/final.valid.0.pt\n",
            "[2021-03-01 23:27:39,832 INFO] number of examples: 716\n",
            "[2021-03-01 23:27:41,841 INFO] Validation perplexity: 3.08259\n",
            "[2021-03-01 23:27:41,841 INFO] Validation accuracy: 72.7266\n",
            "[2021-03-01 23:27:41,841 INFO] Decreasing patience: 7/10\n",
            "[2021-03-01 23:27:42,167 INFO] Loading dataset from /content/CquenceR/data/input/final.train.0.pt\n",
            "[2021-03-01 23:27:43,297 INFO] number of examples: 6081\n",
            "[2021-03-01 23:27:50,281 INFO] Step 2150/ 4000; acc:  73.65; ppl:  2.75; xent: 1.01; lr: 1.00000; 9751/2700 tok/s;    407 sec\n",
            "[2021-03-01 23:27:50,282 INFO] Loading dataset from /content/CquenceR/data/input/final.valid.0.pt\n",
            "[2021-03-01 23:27:50,380 INFO] number of examples: 716\n",
            "[2021-03-01 23:27:52,354 INFO] Validation perplexity: 2.8235\n",
            "[2021-03-01 23:27:52,354 INFO] Validation accuracy: 74.2409\n",
            "[2021-03-01 23:27:52,354 INFO] Stalled patience: 9/10\n",
            "[2021-03-01 23:27:59,686 INFO] Step 2200/ 4000; acc:  76.93; ppl:  2.42; xent: 0.88; lr: 1.00000; 10261/3027 tok/s;    416 sec\n",
            "[2021-03-01 23:27:59,686 INFO] Loading dataset from /content/CquenceR/data/input/final.valid.0.pt\n",
            "[2021-03-01 23:27:59,904 INFO] number of examples: 716\n",
            "[2021-03-01 23:28:01,873 INFO] Validation perplexity: 2.88217\n",
            "[2021-03-01 23:28:01,873 INFO] Validation accuracy: 75.7323\n",
            "[2021-03-01 23:28:01,873 INFO] Stalled patience: 8/10\n",
            "[2021-03-01 23:28:08,288 INFO] Step 2250/ 4000; acc:  76.64; ppl:  2.46; xent: 0.90; lr: 1.00000; 10122/3347 tok/s;    425 sec\n",
            "[2021-03-01 23:28:08,288 INFO] Loading dataset from /content/CquenceR/data/input/final.valid.0.pt\n",
            "[2021-03-01 23:28:08,390 INFO] number of examples: 716\n",
            "[2021-03-01 23:28:10,335 INFO] Validation perplexity: 2.90883\n",
            "[2021-03-01 23:28:10,335 INFO] Validation accuracy: 75.1511\n",
            "[2021-03-01 23:28:10,336 INFO] Decreasing patience: 6/10\n",
            "[2021-03-01 23:28:17,061 INFO] Loading dataset from /content/CquenceR/data/input/final.train.0.pt\n",
            "[2021-03-01 23:28:18,225 INFO] number of examples: 6081\n",
            "[2021-03-01 23:28:19,366 INFO] Step 2300/ 4000; acc:  75.23; ppl:  2.62; xent: 0.96; lr: 1.00000; 9537/2601 tok/s;    436 sec\n",
            "[2021-03-01 23:28:19,367 INFO] Loading dataset from /content/CquenceR/data/input/final.valid.0.pt\n",
            "[2021-03-01 23:28:19,466 INFO] number of examples: 716\n",
            "[2021-03-01 23:28:21,443 INFO] Validation perplexity: 2.7238\n",
            "[2021-03-01 23:28:21,443 INFO] Validation accuracy: 74.4933\n",
            "[2021-03-01 23:28:21,443 INFO] Stalled patience: 7/10\n",
            "[2021-03-01 23:28:28,864 INFO] Step 2350/ 4000; acc:  75.52; ppl:  2.51; xent: 0.92; lr: 1.00000; 11030/3077 tok/s;    445 sec\n",
            "[2021-03-01 23:28:28,864 INFO] Loading dataset from /content/CquenceR/data/input/final.valid.0.pt\n",
            "[2021-03-01 23:28:28,965 INFO] number of examples: 716\n",
            "[2021-03-01 23:28:30,931 INFO] Validation perplexity: 2.80745\n",
            "[2021-03-01 23:28:30,931 INFO] Validation accuracy: 75.847\n",
            "[2021-03-01 23:28:30,931 INFO] Model is improving ppl: 2.83244 --> 2.80745.\n",
            "[2021-03-01 23:28:30,931 INFO] Model is improving acc: 75.3652 --> 75.847.\n",
            "[2021-03-01 23:28:37,724 INFO] Step 2400/ 4000; acc:  77.18; ppl:  2.39; xent: 0.87; lr: 1.00000; 10604/3173 tok/s;    454 sec\n",
            "[2021-03-01 23:28:37,724 INFO] Loading dataset from /content/CquenceR/data/input/final.valid.0.pt\n",
            "[2021-03-01 23:28:37,821 INFO] number of examples: 716\n",
            "[2021-03-01 23:28:39,797 INFO] Validation perplexity: 2.847\n",
            "[2021-03-01 23:28:39,797 INFO] Validation accuracy: 73.3308\n",
            "[2021-03-01 23:28:39,797 INFO] Decreasing patience: 9/10\n",
            "[2021-03-01 23:28:46,669 INFO] Step 2450/ 4000; acc:  77.25; ppl:  2.37; xent: 0.86; lr: 1.00000; 10499/3277 tok/s;    463 sec\n",
            "[2021-03-01 23:28:46,669 INFO] Loading dataset from /content/CquenceR/data/input/final.valid.0.pt\n",
            "[2021-03-01 23:28:46,768 INFO] number of examples: 716\n",
            "[2021-03-01 23:28:48,740 INFO] Validation perplexity: 2.74926\n",
            "[2021-03-01 23:28:48,740 INFO] Validation accuracy: 75.6099\n",
            "[2021-03-01 23:28:48,740 INFO] Stalled patience: 9/10\n",
            "[2021-03-01 23:28:53,864 INFO] Loading dataset from /content/CquenceR/data/input/final.train.0.pt\n",
            "[2021-03-01 23:28:54,975 INFO] number of examples: 6081\n",
            "[2021-03-01 23:28:57,230 INFO] Step 2500/ 4000; acc:  75.99; ppl:  2.49; xent: 0.91; lr: 1.00000; 9665/2602 tok/s;    474 sec\n",
            "[2021-03-01 23:28:57,230 INFO] Loading dataset from /content/CquenceR/data/input/final.valid.0.pt\n",
            "[2021-03-01 23:28:57,440 INFO] number of examples: 716\n",
            "[2021-03-01 23:28:59,422 INFO] Validation perplexity: 2.69968\n",
            "[2021-03-01 23:28:59,422 INFO] Validation accuracy: 76.3059\n",
            "[2021-03-01 23:28:59,423 INFO] Model is improving ppl: 2.80745 --> 2.69968.\n",
            "[2021-03-01 23:28:59,423 INFO] Model is improving acc: 75.847 --> 76.3059.\n",
            "[2021-03-01 23:29:07,029 INFO] Step 2550/ 4000; acc:  77.07; ppl:  2.35; xent: 0.85; lr: 1.00000; 10147/2957 tok/s;    483 sec\n",
            "[2021-03-01 23:29:07,029 INFO] Loading dataset from /content/CquenceR/data/input/final.valid.0.pt\n",
            "[2021-03-01 23:29:07,126 INFO] number of examples: 716\n",
            "[2021-03-01 23:29:09,085 INFO] Validation perplexity: 4.02256\n",
            "[2021-03-01 23:29:09,085 INFO] Validation accuracy: 70.0421\n",
            "[2021-03-01 23:29:09,085 INFO] Decreasing patience: 9/10\n",
            "[2021-03-01 23:29:15,660 INFO] Step 2600/ 4000; acc:  77.98; ppl:  2.29; xent: 0.83; lr: 1.00000; 10936/3437 tok/s;    492 sec\n",
            "[2021-03-01 23:29:15,660 INFO] Loading dataset from /content/CquenceR/data/input/final.valid.0.pt\n",
            "[2021-03-01 23:29:15,759 INFO] number of examples: 716\n",
            "[2021-03-01 23:29:17,740 INFO] Validation perplexity: 2.71111\n",
            "[2021-03-01 23:29:17,740 INFO] Validation accuracy: 76.0229\n",
            "[2021-03-01 23:29:17,740 INFO] Decreasing patience: 8/10\n",
            "[2021-03-01 23:29:25,283 INFO] Step 2650/ 4000; acc:  77.56; ppl:  2.33; xent: 0.85; lr: 1.00000; 10661/2987 tok/s;    502 sec\n",
            "[2021-03-01 23:29:25,283 INFO] Loading dataset from /content/CquenceR/data/input/final.valid.0.pt\n",
            "[2021-03-01 23:29:25,381 INFO] number of examples: 716\n",
            "[2021-03-01 23:29:27,344 INFO] Validation perplexity: 2.71014\n",
            "[2021-03-01 23:29:27,344 INFO] Validation accuracy: 76.1683\n",
            "[2021-03-01 23:29:27,344 INFO] Decreasing patience: 7/10\n",
            "[2021-03-01 23:29:30,606 INFO] Loading dataset from /content/CquenceR/data/input/final.train.0.pt\n",
            "[2021-03-01 23:29:31,733 INFO] number of examples: 6081\n",
            "[2021-03-01 23:29:35,358 INFO] Step 2700/ 4000; acc:  76.51; ppl:  2.40; xent: 0.88; lr: 1.00000; 9966/2779 tok/s;    512 sec\n",
            "[2021-03-01 23:29:35,358 INFO] Loading dataset from /content/CquenceR/data/input/final.valid.0.pt\n",
            "[2021-03-01 23:29:35,456 INFO] number of examples: 716\n",
            "[2021-03-01 23:29:37,476 INFO] Validation perplexity: 2.74959\n",
            "[2021-03-01 23:29:37,476 INFO] Validation accuracy: 75.3423\n",
            "[2021-03-01 23:29:37,476 INFO] Decreasing patience: 6/10\n",
            "[2021-03-01 23:29:44,575 INFO] Step 2750/ 4000; acc:  78.80; ppl:  2.20; xent: 0.79; lr: 1.00000; 10102/2923 tok/s;    521 sec\n",
            "[2021-03-01 23:29:44,576 INFO] Loading dataset from /content/CquenceR/data/input/final.valid.0.pt\n",
            "[2021-03-01 23:29:44,787 INFO] number of examples: 716\n",
            "[2021-03-01 23:29:46,805 INFO] Validation perplexity: 2.8057\n",
            "[2021-03-01 23:29:46,805 INFO] Validation accuracy: 75.4417\n",
            "[2021-03-01 23:29:46,805 INFO] Decreasing patience: 5/10\n",
            "[2021-03-01 23:29:53,958 INFO] Step 2800/ 4000; acc:  78.09; ppl:  2.26; xent: 0.81; lr: 1.00000; 10217/3337 tok/s;    530 sec\n",
            "[2021-03-01 23:29:53,958 INFO] Loading dataset from /content/CquenceR/data/input/final.valid.0.pt\n",
            "[2021-03-01 23:29:54,057 INFO] number of examples: 716\n",
            "[2021-03-01 23:29:56,037 INFO] Validation perplexity: 2.91409\n",
            "[2021-03-01 23:29:56,037 INFO] Validation accuracy: 74.4092\n",
            "[2021-03-01 23:29:56,037 INFO] Decreasing patience: 4/10\n",
            "[2021-03-01 23:30:03,050 INFO] Step 2850/ 4000; acc:  78.63; ppl:  2.22; xent: 0.80; lr: 1.00000; 11052/3033 tok/s;    539 sec\n",
            "[2021-03-01 23:30:03,050 INFO] Loading dataset from /content/CquenceR/data/input/final.valid.0.pt\n",
            "[2021-03-01 23:30:03,148 INFO] number of examples: 716\n",
            "[2021-03-01 23:30:05,100 INFO] Validation perplexity: 2.77573\n",
            "[2021-03-01 23:30:05,100 INFO] Validation accuracy: 76.0688\n",
            "[2021-03-01 23:30:05,100 INFO] Decreasing patience: 3/10\n",
            "[2021-03-01 23:30:07,478 INFO] Loading dataset from /content/CquenceR/data/input/final.train.0.pt\n",
            "[2021-03-01 23:30:08,627 INFO] number of examples: 6081\n",
            "[2021-03-01 23:30:13,655 INFO] Step 2900/ 4000; acc:  76.39; ppl:  2.40; xent: 0.88; lr: 1.00000; 9584/2776 tok/s;    550 sec\n",
            "[2021-03-01 23:30:13,655 INFO] Loading dataset from /content/CquenceR/data/input/final.valid.0.pt\n",
            "[2021-03-01 23:30:13,750 INFO] number of examples: 716\n",
            "[2021-03-01 23:30:15,723 INFO] Validation perplexity: 3.12399\n",
            "[2021-03-01 23:30:15,723 INFO] Validation accuracy: 68.7725\n",
            "[2021-03-01 23:30:15,723 INFO] Decreasing patience: 2/10\n",
            "[2021-03-01 23:30:22,801 INFO] Step 2950/ 4000; acc:  79.40; ppl:  2.11; xent: 0.75; lr: 1.00000; 10744/2923 tok/s;    559 sec\n",
            "[2021-03-01 23:30:22,802 INFO] Loading dataset from /content/CquenceR/data/input/final.valid.0.pt\n",
            "[2021-03-01 23:30:22,906 INFO] number of examples: 716\n",
            "[2021-03-01 23:30:24,890 INFO] Validation perplexity: 2.81054\n",
            "[2021-03-01 23:30:24,890 INFO] Validation accuracy: 74.8451\n",
            "[2021-03-01 23:30:24,890 INFO] Decreasing patience: 1/10\n",
            "[2021-03-01 23:30:31,552 INFO] Step 3000/ 4000; acc:  78.88; ppl:  2.20; xent: 0.79; lr: 1.00000; 10516/3358 tok/s;    568 sec\n",
            "[2021-03-01 23:30:31,552 INFO] Loading dataset from /content/CquenceR/data/input/final.valid.0.pt\n",
            "[2021-03-01 23:30:31,652 INFO] number of examples: 716\n",
            "[2021-03-01 23:30:33,614 INFO] Validation perplexity: 2.79726\n",
            "[2021-03-01 23:30:33,614 INFO] Validation accuracy: 75.3805\n",
            "[2021-03-01 23:30:33,614 INFO] Decreasing patience: 0/10\n",
            "[2021-03-01 23:30:33,614 INFO] Training finished after not improving. Early Stop!\n",
            "[2021-03-01 23:30:33,614 INFO] Best model found at step 2500\n",
            "[2021-03-01 23:30:33,716 INFO] Saving checkpoint /content/CquenceR/data/model/final-model_step_3000.pt\n",
            "findfont: Font family ['Helvetica'] not found. Falling back to DejaVu Sans.\n",
            "findfont: Font family ['Helvetica'] not found. Falling back to DejaVu Sans.\n"
          ],
          "name": "stdout"
        }
      ]
    },
    {
      "cell_type": "markdown",
      "metadata": {
        "id": "AKbnN3Sk1MBF"
      },
      "source": [
        "# Test and Plot Results (test_plots is the output folder)"
      ]
    },
    {
      "cell_type": "code",
      "metadata": {
        "id": "2PdW0IPAHh8t",
        "colab": {
          "base_uri": "https://localhost:8080/"
        },
        "outputId": "e555ac9c-60b6-4255-f231-2b6b0855cd36"
      },
      "source": [
        "!python3.7 CquenceR/CquenceR.py test -v --plot"
      ],
      "execution_count": 12,
      "outputs": [
        {
          "output_type": "stream",
          "text": [
            "Translating\n",
            "command -v onmt_translate > /dev/null; echo $?;\n",
            "0\n",
            "onmt_translate -model /content/CquenceR/data/model/final-model_step_3000.pt -src /content/CquenceR/data/processed/src-test.txt --beam_size 50 --n_best 50 --dynamic_dict --replace_unk --seed 0 -output /tmp/cquencer_test_predictions 2>&1\n",
            "[2021-03-01 23:36:20,017 INFO] Translating shard 0.\n",
            "/usr/local/lib/python3.7/dist-packages/torchtext/data/field.py:359: UserWarning: To copy construct from a tensor, it is recommended to use sourceTensor.clone().detach() or sourceTensor.clone().detach().requires_grad_(True), rather than torch.tensor(sourceTensor).\n",
            "  var = torch.tensor(arr, dtype=self.dtype, device=device)\n",
            "[2021-03-01 23:37:47,427 INFO] PRED AVG SCORE: -0.2143, PRED PPL: 1.2390\n",
            "Similarity total average: 0.653\n",
            "Similarity median: 0.699\n",
            "Average target token size: 4.79\n",
            "Average predicted token size: 4.663\n",
            "Median predicted token size: 2.0\n",
            "Median Target Token Size: 2.0\n",
            "Found fixes for 93 vulnerabilities (0.26%)\n",
            "Found 242 total fixes\n",
            "Analyzed 358 total changes\n"
          ],
          "name": "stdout"
        }
      ]
    },
    {
      "cell_type": "code",
      "metadata": {
        "colab": {
          "base_uri": "https://localhost:8080/"
        },
        "id": "2UujEaxQYozc",
        "outputId": "d2130b70-9fc6-41e4-fe1d-b3a2bd1c46dc"
      },
      "source": [
        "import torch\n",
        "# setting device on GPU if available, else CPU\n",
        "device = torch.device('cuda' if torch.cuda.is_available() else 'cpu')\n",
        "print('Using device:', device)\n",
        "print()\n",
        "\n",
        "#Additional Info when using cuda\n",
        "if device.type == 'cuda':\n",
        "    print(torch.cuda.get_device_name(0))\n",
        "    print('Memory Usage:')\n",
        "    print('Allocated:', round(torch.cuda.memory_allocated(0)/1024**3,1), 'GB')\n",
        "    print('Cached:   ', round(torch.cuda.memory_reserved(0)/1024**3,1), 'GB')"
      ],
      "execution_count": null,
      "outputs": [
        {
          "output_type": "stream",
          "text": [
            "Using device: cuda\n",
            "\n",
            "Tesla T4\n",
            "Memory Usage:\n",
            "Allocated: 0.0 GB\n",
            "Cached:    0.0 GB\n"
          ],
          "name": "stdout"
        }
      ]
    }
  ]
}